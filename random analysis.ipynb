{
 "cells": [
  {
   "cell_type": "code",
   "execution_count": 1,
   "metadata": {
    "collapsed": true
   },
   "outputs": [],
   "source": [
    "import seaborn as sb\n",
    "from scipy.stats.stats import pearsonr\n",
    "import numpy as np\n",
    "import pandas as pd\n",
    "import matplotlib\n",
    "import matplotlib.pyplot as plt\n",
    "%matplotlib inline\n",
    "font = {'family' : 'normal',\n",
    "        'weight' : 'light',\n",
    "        'size'   : 22}\n",
    "\n",
    "matplotlib.rc('font', **font)"
   ]
  },
  {
   "cell_type": "code",
   "execution_count": 2,
   "metadata": {
    "collapsed": true
   },
   "outputs": [],
   "source": [
    "df = pd.read_csv('randomselection.csv')"
   ]
  },
  {
   "cell_type": "code",
   "execution_count": 3,
   "metadata": {},
   "outputs": [
    {
     "data": {
      "text/html": [
       "<div>\n",
       "<style>\n",
       "    .dataframe thead tr:only-child th {\n",
       "        text-align: right;\n",
       "    }\n",
       "\n",
       "    .dataframe thead th {\n",
       "        text-align: left;\n",
       "    }\n",
       "\n",
       "    .dataframe tbody tr th {\n",
       "        vertical-align: top;\n",
       "    }\n",
       "</style>\n",
       "<table border=\"1\" class=\"dataframe\">\n",
       "  <thead>\n",
       "    <tr style=\"text-align: right;\">\n",
       "      <th></th>\n",
       "      <th>Unnamed: 0</th>\n",
       "      <th>Name</th>\n",
       "      <th>Studio</th>\n",
       "      <th>Episodes</th>\n",
       "      <th>Genres</th>\n",
       "      <th>Source</th>\n",
       "      <th>Type</th>\n",
       "      <th>Score</th>\n",
       "      <th>Season</th>\n",
       "      <th>Year</th>\n",
       "    </tr>\n",
       "  </thead>\n",
       "  <tbody>\n",
       "    <tr>\n",
       "      <th>0</th>\n",
       "      <td>0</td>\n",
       "      <td>Love Hina</td>\n",
       "      <td>Xebec</td>\n",
       "      <td>24</td>\n",
       "      <td>[Comedy, Ecchi, Harem, Romance, Shounen, Slice...</td>\n",
       "      <td>Manga</td>\n",
       "      <td>TV</td>\n",
       "      <td>7.27</td>\n",
       "      <td>Spring</td>\n",
       "      <td>2000</td>\n",
       "    </tr>\n",
       "    <tr>\n",
       "      <th>1</th>\n",
       "      <td>1</td>\n",
       "      <td>Yu☆Gi☆Oh! Duel Monsters</td>\n",
       "      <td>Studio Gallop</td>\n",
       "      <td>224</td>\n",
       "      <td>[Adventure, Game, Shounen]</td>\n",
       "      <td>Manga</td>\n",
       "      <td>TV</td>\n",
       "      <td>7.58</td>\n",
       "      <td>Spring</td>\n",
       "      <td>2000</td>\n",
       "    </tr>\n",
       "    <tr>\n",
       "      <th>2</th>\n",
       "      <td>2</td>\n",
       "      <td>Ayashi no Ceres</td>\n",
       "      <td>Studio Pierrot</td>\n",
       "      <td>24</td>\n",
       "      <td>[Adventure, Comedy, Horror, Psychological, Sup...</td>\n",
       "      <td>Manga</td>\n",
       "      <td>TV</td>\n",
       "      <td>7.36</td>\n",
       "      <td>Spring</td>\n",
       "      <td>2000</td>\n",
       "    </tr>\n",
       "    <tr>\n",
       "      <th>3</th>\n",
       "      <td>3</td>\n",
       "      <td>Gensoumaden Saiyuuki</td>\n",
       "      <td>Studio Pierrot</td>\n",
       "      <td>50</td>\n",
       "      <td>[Adventure, Comedy, Supernatural, Drama, Shounen]</td>\n",
       "      <td>Manga</td>\n",
       "      <td>TV</td>\n",
       "      <td>7.70</td>\n",
       "      <td>Spring</td>\n",
       "      <td>2000</td>\n",
       "    </tr>\n",
       "    <tr>\n",
       "      <th>4</th>\n",
       "      <td>4</td>\n",
       "      <td>Seikai no Senki</td>\n",
       "      <td>Sunrise</td>\n",
       "      <td>13</td>\n",
       "      <td>[Action, Military, Romance, Sci-Fi, Space]</td>\n",
       "      <td>Light novel</td>\n",
       "      <td>TV</td>\n",
       "      <td>7.84</td>\n",
       "      <td>Spring</td>\n",
       "      <td>2000</td>\n",
       "    </tr>\n",
       "  </tbody>\n",
       "</table>\n",
       "</div>"
      ],
      "text/plain": [
       "   Unnamed: 0                     Name          Studio Episodes  \\\n",
       "0           0                Love Hina           Xebec       24   \n",
       "1           1  Yu☆Gi☆Oh! Duel Monsters   Studio Gallop      224   \n",
       "2           2          Ayashi no Ceres  Studio Pierrot       24   \n",
       "3           3     Gensoumaden Saiyuuki  Studio Pierrot       50   \n",
       "4           4          Seikai no Senki         Sunrise       13   \n",
       "\n",
       "                                              Genres       Source Type  Score  \\\n",
       "0  [Comedy, Ecchi, Harem, Romance, Shounen, Slice...        Manga   TV   7.27   \n",
       "1                         [Adventure, Game, Shounen]        Manga   TV   7.58   \n",
       "2  [Adventure, Comedy, Horror, Psychological, Sup...        Manga   TV   7.36   \n",
       "3  [Adventure, Comedy, Supernatural, Drama, Shounen]        Manga   TV   7.70   \n",
       "4         [Action, Military, Romance, Sci-Fi, Space]  Light novel   TV   7.84   \n",
       "\n",
       "   Season  Year  \n",
       "0  Spring  2000  \n",
       "1  Spring  2000  \n",
       "2  Spring  2000  \n",
       "3  Spring  2000  \n",
       "4  Spring  2000  "
      ]
     },
     "execution_count": 3,
     "metadata": {},
     "output_type": "execute_result"
    }
   ],
   "source": [
    "df.head()"
   ]
  },
  {
   "cell_type": "code",
   "execution_count": 5,
   "metadata": {},
   "outputs": [
    {
     "data": {
      "text/plain": [
       "<matplotlib.axes._subplots.AxesSubplot at 0x1f0efa20>"
      ]
     },
     "execution_count": 5,
     "metadata": {},
     "output_type": "execute_result"
    },
    {
     "data": {
      "image/png": "[encoded data removed]",
      "text/plain": [
       "<matplotlib.figure.Figure at 0x1f12fa90>"
      ]
     },
     "metadata": {},
     "output_type": "display_data"
    }
   ],
   "source": [
    "fig, axs = plt.subplots(ncols=2,figsize=(9,6))\n",
    "sb.countplot(x=df.Type, data = df,ax=axs[0])\n"
   ]
  },
  {
   "cell_type": "code",
   "execution_count": null,
   "metadata": {
    "collapsed": true
   },
   "outputs": [],
   "source": []
  }
 ],
 "metadata": {
  "kernelspec": {
   "display_name": "Python 2",
   "language": "python",
   "name": "python2"
  },
  "language_info": {
   "codemirror_mode": {
    "name": "ipython",
    "version": 2
   },
   "file_extension": ".py",
   "mimetype": "text/x-python",
   "name": "python",
   "nbconvert_exporter": "python",
   "pygments_lexer": "ipython2",
   "version": "2.7.10"
  }
 },
 "nbformat": 4,
 "nbformat_minor": 2
}

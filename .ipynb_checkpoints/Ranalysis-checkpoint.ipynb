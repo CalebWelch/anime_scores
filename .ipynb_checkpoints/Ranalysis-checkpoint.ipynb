{
 "cells": [
  {
   "cell_type": "code",
   "execution_count": 117,
   "metadata": {},
   "outputs": [],
   "source": [
    "library(repr)\n",
    "library(mice)\n",
    "library(dplyr)\n",
    "library(Rmisc)\n",
    "library(ggplot2)\n",
    "library(data.table)\n",
    "df =fread('cleaned.csv')"
   ]
  },
  {
   "cell_type": "code",
   "execution_count": 119,
   "metadata": {},
   "outputs": [
    {
     "name": "stdout",
     "output_type": "stream",
     "text": [
      "Classes 'data.table' and 'data.frame':\t3371 obs. of  11 variables:\n",
      " $ V1      : int  0 1 2 3 4 5 6 7 8 9 ...\n",
      " $ Name    : chr  \"Patalliro!\" \"Mahou no Princess Minky Momo\" \"Kikou Kantai Dairugger XV\" \"Ochamegami Monogatari: Korokoro Pollon\" ...\n",
      " $ Studio  : chr  \"Toei Animation\" \"Production Reed\" \"Toei Animation\" \"-\" ...\n",
      " $ Episodes: chr  \"49\" \"63\" \"52\" \"46\" ...\n",
      " $ Genres  : chr  \"[Adventure, Comedy, Romance, Shoujo, Shounen Ai]\" \"[Magic, Shoujo]\" \"[Action, Adventure, Mecha, Sci-Fi, Shounen]\" \"[Parody, Magic, Comedy]\" ...\n",
      " $ Source  : chr  \"Manga\" \"Original\" \"-\" \"Manga\" ...\n",
      " $ Type    : chr  \"TV\" \"TV\" \"TV\" \"TV\" ...\n",
      " $ Score   : num  7.62 6.77 6.56 7.13 6.38 ...\n",
      " $ Members : chr  \"2,748\" \"2,524\" \"1,228\" \"1,169\" ...\n",
      " $ Season  : chr  \"Spring\" \"Spring\" \"Spring\" \"Spring\" ...\n",
      " $ Year    : int  1982 1982 1982 1982 1982 1982 1982 1982 1982 1982 ...\n",
      " - attr(*, \".internal.selfref\")=<externalptr> \n"
     ]
    },
    {
     "name": "stderr",
     "output_type": "stream",
     "text": [
      "Warning message in eval(expr, envir, enclos):\n",
      "\"NAs introduced by coercion\""
     ]
    },
    {
     "data": {
      "text/html": [
       "<ol class=list-inline>\n",
       "\t<li>'Fall'</li>\n",
       "\t<li>'Spring'</li>\n",
       "\t<li>'Summer'</li>\n",
       "\t<li>'Winter'</li>\n",
       "</ol>\n"
      ],
      "text/latex": [
       "\\begin{enumerate*}\n",
       "\\item 'Fall'\n",
       "\\item 'Spring'\n",
       "\\item 'Summer'\n",
       "\\item 'Winter'\n",
       "\\end{enumerate*}\n"
      ],
      "text/markdown": [
       "1. 'Fall'\n",
       "2. 'Spring'\n",
       "3. 'Summer'\n",
       "4. 'Winter'\n",
       "\n",
       "\n"
      ],
      "text/plain": [
       "[1] \"Fall\"   \"Spring\" \"Summer\" \"Winter\""
      ]
     },
     "metadata": {},
     "output_type": "display_data"
    }
   ],
   "source": [
    "str(df)\n",
    "df$Episodes <- as.numeric(df$Episodes)\n",
    "levels(as.factor(df$Season))"
   ]
  },
  {
   "cell_type": "markdown",
   "metadata": {},
   "source": [
    "<h1>Golden age of anime?</h1>\n",
    "Seems to be no particular high scoring season or year, standard deviation is quite small.\n",
    "<br>No \"Golden Age\" of anime"
   ]
  },
  {
   "cell_type": "code",
   "execution_count": 102,
   "metadata": {},
   "outputs": [
    {
     "data": {
      "text/plain": [
       "   Min. 1st Qu.  Median    Mean 3rd Qu.    Max. \n",
       "  6.388   6.726   6.815   6.833   6.931   7.189 "
      ]
     },
     "metadata": {},
     "output_type": "display_data"
    },
    {
     "data": {
      "text/html": [
       "0.177572393091979"
      ],
      "text/latex": [
       "0.177572393091979"
      ],
      "text/markdown": [
       "0.177572393091979"
      ],
      "text/plain": [
       "[1] 0.1775724"
      ]
     },
     "metadata": {},
     "output_type": "display_data"
    },
    {
     "data": {
      "image/png": "[encoded data removed]",
      "text/plain": [
       "Plot with title \"Mean Score vs Year\""
      ]
     },
     "metadata": {},
     "output_type": "display_data"
    }
   ],
   "source": [
    "temp <-df[,mean(Score),by=.(Season,Year)]\n",
    "plot(V1~jitter(Year,2), xlab = \"\",ylab=\"\",\n",
    "     temp,\n",
    "     ylim=c(0,10),\n",
    "     axes = FALSE,\n",
    "     col=1:length(unique(temp$Season)))\n",
    "title(main = 'Mean Score vs Year',xlab = 'Year',ylab = 'Mean Score per Season,Year')\n",
    "grid (NULL,NULL, lty = 6, col = \"black\") \n",
    "\n",
    "axis(1,at=seq(min(temp$Year),max(temp$Year)),las=3)\n",
    "axis(2,at=seq(0,10),las=3)\n",
    "legend('topright',legend=levels(as.factor(temp$Season)),fill=1:length(unique(temp$Season)) )\n",
    "summary(temp$V1);sd(temp$V1)"
   ]
  },
  {
   "cell_type": "markdown",
   "metadata": {},
   "source": [
    "<h1>Members are the number of people who have rated a certain show.</h1><br>\n",
    "This graph shows the total number of members per year. Seems as far as anime goes, the growth has been exponential after 2000"
   ]
  },
  {
   "cell_type": "code",
   "execution_count": 153,
   "metadata": {},
   "outputs": [
    {
     "data": {
      "text/plain": [
       "\n",
       "Call:\n",
       "lm(formula = Members ~ poly(Year, 2), data = members)\n",
       "\n",
       "Residuals:\n",
       "     Min       1Q   Median       3Q      Max \n",
       "-5903446  -782274    42883   301033  6985725 \n",
       "\n",
       "Coefficients:\n",
       "               Estimate Std. Error t value     Pr(>|t|)    \n",
       "(Intercept)     2952293     406084   7.270 0.0000000429 ***\n",
       "poly(Year, 2)1 17426271    2332775   7.470 0.0000000251 ***\n",
       "poly(Year, 2)2  5904914    2332775   2.531       0.0168 *  \n",
       "---\n",
       "Signif. codes:  0 '***' 0.001 '**' 0.01 '*' 0.05 '.' 0.1 ' ' 1\n",
       "\n",
       "Residual standard error: 2333000 on 30 degrees of freedom\n",
       "Multiple R-squared:  0.6747,\tAdjusted R-squared:  0.653 \n",
       "F-statistic: 31.11 on 2 and 30 DF,  p-value: 0.00000004842\n"
      ]
     },
     "metadata": {},
     "output_type": "display_data"
    }
   ],
   "source": [
    "fit=lm(Members~poly(Year,2),data=members)\n",
    "preds = predict(fit,newdata=members)\n",
    "summary(fit)"
   ]
  },
  {
   "cell_type": "code",
   "execution_count": 156,
   "metadata": {
    "scrolled": false
   },
   "outputs": [
    {
     "data": {
      "image/png": "[encoded data removed]",
      "text/plain": [
       "Plot with title \"Member growth over Years\""
      ]
     },
     "metadata": {},
     "output_type": "display_data"
    }
   ],
   "source": [
    "#df$Members <- as.numeric(gsub(\",\", \"\", df$Members))\n",
    "members <- df[,lapply(.SD,sum),by=Year,.SDcols='Members']\n",
    "members <- members[order(Year,Members)]\n",
    "\n",
    "options(scipen=5)\n",
    "plot(Members~Year,members)\n",
    "title(main = 'Member growth over Years')\n",
    "lines(members$Year,preds,lwd=2,col='blue')"
   ]
  }
 ],
 "metadata": {
  "kernelspec": {
   "display_name": "R",
   "language": "R",
   "name": "ir"
  },
  "language_info": {
   "codemirror_mode": "r",
   "file_extension": ".r",
   "mimetype": "text/x-r-source",
   "name": "R",
   "pygments_lexer": "r",
   "version": "3.4.0"
  }
 },
 "nbformat": 4,
 "nbformat_minor": 2
}

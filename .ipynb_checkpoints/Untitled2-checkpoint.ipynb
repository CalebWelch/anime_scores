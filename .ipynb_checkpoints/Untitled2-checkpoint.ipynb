{
 "cells": [
  {
   "cell_type": "code",
   "execution_count": 20,
   "metadata": {
    "collapsed": true
   },
   "outputs": [],
   "source": [
    "from selenium import webdriver\n",
    "from selenium.webdriver import ActionChains\n",
    "from selenium.common.exceptions import TimeoutException\n",
    "import time\n",
    "import pandas as pd"
   ]
  },
  {
   "cell_type": "code",
   "execution_count": 32,
   "metadata": {},
   "outputs": [],
   "source": [
    "def getAnimes(webpage):\n",
    "    t = time.time()\n",
    "    driver = webdriver.Chrome('./chromedriver.exe')\n",
    "    driver.set_page_load_timeout(10)\n",
    "    get_flag = True\n",
    "    while get_flag:\n",
    "        try:\n",
    "            driver.get(webpage)\n",
    "        except TimeoutException:\n",
    "            driver.execute_script('window.stop();')\n",
    "        get_flag = False\n",
    "    print 'Time consuming:', (time.time() - t)\n",
    "    \n",
    "    action = ActionChains(driver)\n",
    "    e3 = driver.find_elements_by_class_name('ranking-list')\n",
    "    listoflists =[]\n",
    "    for index, e in enumerate(e3):\n",
    "        print index\n",
    "        hover_box = e.find_element_by_class_name('detail')\n",
    "        area = hover_box.find_element_by_css_selector(\".di-ib.clearfix\")\n",
    "        a = action.move_to_element(area)\n",
    "        a.perform()\n",
    "        time.sleep(1)\n",
    "        hbox = hover_box.find_element_by_xpath(\"div/div/div\")\n",
    "        driver.execute_script(\"arguments[0].style.display = 'block'; return arguments[0];\",hbox) \n",
    "        hover_text = hbox.text\n",
    "        hover_split = hover_text.splitlines(9)\n",
    "        listoflists.append(hover_split)\n",
    "    df = pd.DataFrame(columns=['Name','Description','Genres','Status','Type','Episodes','Score','Ranked','Popularity','Members'])\n",
    "    for i in listoflists:\n",
    "        df.loc[listoflists.index(i)] = [k.split('\\n')[0] for k in i]\n",
    "    driver.execute_script('window.stop();')\n",
    "    return df"
   ]
  },
  {
   "cell_type": "code",
   "execution_count": 55,
   "metadata": {
    "scrolled": false
   },
   "outputs": [],
   "source": [
    "def mergeFrames(dataframes):\n",
    "    return pd.concat(dataframes)\n",
    "\n",
    "def stripColons(df):\n",
    "    columnname = ['Genres','Status','Type','Episodes','Score','Ranked','Popularity','Members']\n",
    "    for col in columnname:\n",
    "        df[col] = df[col].apply(lambda x: x.split(':')[1])\n",
    "\n",
    "def stripRankedPopularity(df):\n",
    "    df['Ranked'] = df['Ranked'].apply(lambda x: x.split('#')[1])\n",
    "    df['Popularity'] = df['Popularity'].apply(lambda x: x.split('#')[1])\n",
    "    \n",
    "def saveDataframe(df,file_name):\n",
    "    stripColons(df)\n",
    "    stripRankedPopularity(df)\n",
    "    df.to_csv(file_name, encoding='utf-8')\n"
   ]
  },
  {
   "cell_type": "code",
   "execution_count": 25,
   "metadata": {},
   "outputs": [
    {
     "name": "stdout",
     "output_type": "stream",
     "text": [
      "Time consuming: 6.53800010681\n",
      "0\n",
      "1\n",
      "2\n",
      "3\n",
      "4\n",
      "5\n",
      "6\n",
      "7\n",
      "8\n",
      "9\n",
      "10\n",
      "11\n",
      "12\n",
      "13\n",
      "14\n",
      "15\n",
      "16\n",
      "17\n",
      "18\n",
      "19\n",
      "20\n",
      "21\n",
      "22\n",
      "23\n",
      "24\n",
      "25\n",
      "26\n",
      "27\n",
      "28\n",
      "29\n",
      "30\n",
      "31\n",
      "32\n",
      "33\n",
      "34\n",
      "35\n",
      "36\n",
      "37\n",
      "38\n",
      "39\n",
      "40\n",
      "41\n",
      "42\n",
      "43\n",
      "44\n",
      "45\n",
      "46\n",
      "47\n",
      "48\n",
      "49\n",
      "Time consuming: 5.49899983406\n",
      "0\n",
      "1\n",
      "2\n",
      "3\n",
      "4\n",
      "5\n",
      "6\n",
      "7\n",
      "8\n",
      "9\n",
      "10\n",
      "11\n",
      "12\n",
      "13\n",
      "14\n",
      "15\n",
      "16\n",
      "17\n",
      "18\n",
      "19\n",
      "20\n",
      "21\n",
      "22\n",
      "23\n",
      "24\n",
      "25\n",
      "26\n",
      "27\n",
      "28\n",
      "29\n",
      "30\n",
      "31\n",
      "32\n",
      "33\n",
      "34\n",
      "35\n",
      "36\n",
      "37\n",
      "38\n",
      "39\n",
      "40\n",
      "41\n",
      "42\n",
      "43\n",
      "44\n",
      "45\n",
      "46\n",
      "47\n",
      "48\n",
      "49\n",
      "Time consuming: 13.3789999485\n",
      "0\n",
      "1\n",
      "2\n",
      "3\n",
      "4\n",
      "5\n",
      "6\n",
      "7\n",
      "8\n",
      "9\n",
      "10\n",
      "11\n",
      "12\n",
      "13\n",
      "14\n",
      "15\n",
      "16\n",
      "17\n",
      "18\n",
      "19\n",
      "20\n",
      "21\n",
      "22\n",
      "23\n",
      "24\n",
      "25\n",
      "26\n",
      "27\n",
      "28\n",
      "29\n",
      "30\n",
      "31\n",
      "32\n",
      "33\n",
      "34\n",
      "35\n",
      "36\n",
      "37\n",
      "38\n",
      "39\n",
      "40\n",
      "41\n",
      "42\n",
      "43\n",
      "44\n",
      "45\n",
      "46\n",
      "47\n",
      "48\n",
      "49\n"
     ]
    }
   ],
   "source": [
    "dataframe1 = getAnimes('https://myanimelist.net/topanime.php?limit=0')\n",
    "dataframe2 = getAnimes('https://myanimelist.net/topanime.php?limit=50')\n",
    "dataframe3 = getAnimes('https://myanimelist.net/topanime.php?limit=100')\n"
   ]
  },
  {
   "cell_type": "code",
   "execution_count": 37,
   "metadata": {
    "collapsed": true
   },
   "outputs": [],
   "source": [
    "result = mergeFrames([dataframe1,dataframe2,dataframe3])"
   ]
  },
  {
   "cell_type": "code",
   "execution_count": 41,
   "metadata": {
    "collapsed": true
   },
   "outputs": [],
   "source": [
    "stripColons(result)"
   ]
  },
  {
   "cell_type": "code",
   "execution_count": 54,
   "metadata": {},
   "outputs": [],
   "source": [
    "saveDataframe(result,'test.csv')"
   ]
  },
  {
   "cell_type": "code",
   "execution_count": 50,
   "metadata": {},
   "outputs": [
    {
     "data": {
      "text/plain": [
       "'./test'"
      ]
     },
     "execution_count": 50,
     "metadata": {},
     "output_type": "execute_result"
    }
   ],
   "source": []
  },
  {
   "cell_type": "code",
   "execution_count": null,
   "metadata": {
    "collapsed": true
   },
   "outputs": [],
   "source": []
  }
 ],
 "metadata": {
  "kernelspec": {
   "display_name": "Python 2",
   "language": "python",
   "name": "python2"
  },
  "language_info": {
   "codemirror_mode": {
    "name": "ipython",
    "version": 2
   },
   "file_extension": ".py",
   "mimetype": "text/x-python",
   "name": "python",
   "nbconvert_exporter": "python",
   "pygments_lexer": "ipython2",
   "version": "2.7.10"
  }
 },
 "nbformat": 4,
 "nbformat_minor": 2
}
